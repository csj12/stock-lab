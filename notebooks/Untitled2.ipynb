{
 "cells": [
  {
   "cell_type": "code",
   "execution_count": 23,
   "id": "4ee6cbb0",
   "metadata": {
    "scrolled": false
   },
   "outputs": [
    {
     "data": {
      "text/html": [
       "<div>\n",
       "<style scoped>\n",
       "    .dataframe tbody tr th:only-of-type {\n",
       "        vertical-align: middle;\n",
       "    }\n",
       "\n",
       "    .dataframe tbody tr th {\n",
       "        vertical-align: top;\n",
       "    }\n",
       "\n",
       "    .dataframe thead th {\n",
       "        text-align: right;\n",
       "    }\n",
       "</style>\n",
       "<table border=\"1\" class=\"dataframe\">\n",
       "  <thead>\n",
       "    <tr style=\"text-align: right;\">\n",
       "      <th></th>\n",
       "      <th>종목코드</th>\n",
       "      <th>종목명</th>\n",
       "      <th>종가</th>\n",
       "      <th>상장주식수</th>\n",
       "      <th>당기순이익</th>\n",
       "      <th>EPS</th>\n",
       "      <th>PER</th>\n",
       "    </tr>\n",
       "  </thead>\n",
       "  <tbody>\n",
       "    <tr>\n",
       "      <th>12.0</th>\n",
       "      <td>A028260</td>\n",
       "      <td>삼성물산</td>\n",
       "      <td>113000.0</td>\n",
       "      <td>186887081.0</td>\n",
       "      <td>1.748244e+12</td>\n",
       "      <td>9354.544646</td>\n",
       "      <td>12.079690</td>\n",
       "    </tr>\n",
       "    <tr>\n",
       "      <th>27.0</th>\n",
       "      <td>A033780</td>\n",
       "      <td>KT&amp;G</td>\n",
       "      <td>81200.0</td>\n",
       "      <td>137292497.0</td>\n",
       "      <td>8.986593e+11</td>\n",
       "      <td>6545.582312</td>\n",
       "      <td>12.405313</td>\n",
       "    </tr>\n",
       "    <tr>\n",
       "      <th>38.0</th>\n",
       "      <td>A030200</td>\n",
       "      <td>KT</td>\n",
       "      <td>36600.0</td>\n",
       "      <td>261111808.0</td>\n",
       "      <td>7.623050e+11</td>\n",
       "      <td>2919.458166</td>\n",
       "      <td>12.536573</td>\n",
       "    </tr>\n",
       "  </tbody>\n",
       "</table>\n",
       "</div>"
      ],
      "text/plain": [
       "         종목코드   종목명        종가        상장주식수         당기순이익          EPS  \\\n",
       "12.0  A028260  삼성물산  113000.0  186887081.0  1.748244e+12  9354.544646   \n",
       "27.0  A033780  KT&G   81200.0  137292497.0  8.986593e+11  6545.582312   \n",
       "38.0  A030200    KT   36600.0  261111808.0  7.623050e+11  2919.458166   \n",
       "\n",
       "            PER  \n",
       "12.0  12.079690  \n",
       "27.0  12.405313  \n",
       "38.0  12.536573  "
      ]
     },
     "execution_count": 23,
     "metadata": {},
     "output_type": "execute_result"
    }
   ],
   "source": [
    "import pandas as pd\n",
    "pd.set_option('display.max_rows', None)\n",
    "corp_info = pd.read_csv('corp.csv', header=0)\n",
    "corp_info = corp_info[['종목코드','종목명','종가','상장주식수']]\n",
    "corp_result = pd.read_excel('SAMPLE_2018.xlsx')\n",
    "corp_data = corp_result[['종목코드','당기순이익']]\n",
    "corp_total = pd.merge(corp_info, corp_data, how='left', on='종목코드')\n",
    "corp_total = corp_info.join(corp_data.set_index('종목코드'), how='outer', on='종목코드')\n",
    "corp_total[\"EPS\"] = corp_total['당기순이익']/corp_total['상장주식수']\n",
    "corp_total[\"PER\"] = corp_total[\"종가\"]/corp_total[\"EPS\"]\n",
    "#corp_filter = corp_total[(corp_total[\"PER\"]>=12) & (corp_total[\"PER\"]<=15) ]\n",
    "#corp_filter\n"
   ]
  },
  {
   "cell_type": "code",
   "execution_count": null,
   "id": "368ee5e0",
   "metadata": {},
   "outputs": [],
   "source": []
  }
 ],
 "metadata": {
  "kernelspec": {
   "display_name": "Python 3",
   "language": "python",
   "name": "python3"
  },
  "language_info": {
   "codemirror_mode": {
    "name": "ipython",
    "version": 3
   },
   "file_extension": ".py",
   "mimetype": "text/x-python",
   "name": "python",
   "nbconvert_exporter": "python",
   "pygments_lexer": "ipython3",
   "version": "3.8.8"
  }
 },
 "nbformat": 4,
 "nbformat_minor": 5
}
